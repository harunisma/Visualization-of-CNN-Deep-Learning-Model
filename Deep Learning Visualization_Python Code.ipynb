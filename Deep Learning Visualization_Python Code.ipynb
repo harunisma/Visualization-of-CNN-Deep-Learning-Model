{
 "cells": [
  {
   "cell_type": "markdown",
   "id": "8fe69d11-0946-447c-a648-257373d68cd8",
   "metadata": {},
   "source": [
    "# Deep Learning Visualization"
   ]
  },
  {
   "cell_type": "markdown",
   "id": "1f6046cb-b0c8-4e4a-9956-23ecadae7535",
   "metadata": {},
   "source": [
    "Visualization bears importance in both conventional learning and deep learning models. It brings you to fully understand \n",
    "what and how you have already built in your learning algorithm. Many offer other third parties of apps or platforms \n",
    "to pictorally provide an intuitive explanation inside the codes, especially when it is built from scratch. Herein, we \n",
    "attempt to develope a deep learning algorithm called convolutional neural network (CNN) from scratch and thus visualize it \n",
    "using a simple python code. Without further delay, let's swiftly jump in to address the topic !!! "
   ]
  },
  {
   "cell_type": "markdown",
   "id": "08b9aeb0-c608-42f9-94ea-95c2ee38a67a",
   "metadata": {},
   "source": [
    "## Start Coding"
   ]
  },
  {
   "cell_type": "code",
   "execution_count": 5,
   "id": "4904036d-e85a-4de7-9e19-8c9782e9a00e",
   "metadata": {
    "tags": []
   },
   "outputs": [],
   "source": [
    "#Import Dependencies\n",
    "import keras\n",
    "import tensorflow as tf\n",
    "import visualkeras\n",
    "from tensorflow import keras\n",
    "from keras.models import Sequential\n",
    "from tensorflow.keras.layers import Input, Conv2D, Dense, Flatten, Dropout\n",
    "from tensorflow.keras.layers import GlobalMaxPooling2D, MaxPooling2D\n",
    "from tensorflow.keras.models import Model\n",
    "from tensorflow.keras import regularizers, optimizers\n",
    "from PIL import ImageFont\n",
    "import warnings"
   ]
  },
  {
   "cell_type": "code",
   "execution_count": 6,
   "id": "224e5249-952a-4184-af30-d60628495d10",
   "metadata": {
    "tags": []
   },
   "outputs": [],
   "source": [
    "#Build Model\n",
    "model = Sequential()\n",
    "model.add(Conv2D(256,(4,4),input_shape=(32,32,3),activation='relu',padding='valid', name='Layer1'))\n",
    "model.add(MaxPooling2D(pool_size=(2,2), name='Layer2'))\n",
    "model.add(Conv2D(64,(4,4),input_shape=(32,32,3),activation='relu',padding='same', name='Layer3'))\n",
    "model.add(MaxPooling2D(pool_size=(2,2), name='Layer4'))\n",
    "model.add(Dropout(0.2, name='Layer5'))\n",
    "model.add(Conv2D(128,(4,4),input_shape=(32,32,3),activation='relu',padding='valid', name='Layer6'))\n",
    "model.add(MaxPooling2D(pool_size=(2,2), name='Layer7'))\n",
    "model.add(Dropout(0.1, name='Layer8'))\n",
    "model.add(Conv2D(128,(4,4),input_shape=(32,32,3),activation='relu',padding='same', name='Layer9'))\n",
    "model.add(MaxPooling2D(pool_size=(2,2), name='Layer10'))\n",
    "model.add(Dropout(0.35, name='Layer11'))\n",
    "model.add(Flatten(name='Layer12'))\n",
    "model.add(Dense(256, activation='relu', name='Layer13'))\n",
    "model.add(Dropout(0.5, name='Layer14'))\n",
    "model.add(Dense(25, activation='softmax', name='Layer15'))"
   ]
  },
  {
   "cell_type": "code",
   "execution_count": 7,
   "id": "4be65cea-55bc-4c87-a3cb-acbec1727274",
   "metadata": {
    "tags": []
   },
   "outputs": [
    {
     "name": "stdout",
     "output_type": "stream",
     "text": [
      "Model: \"sequential_2\"\n",
      "_________________________________________________________________\n",
      " Layer (type)                Output Shape              Param #   \n",
      "=================================================================\n",
      " Layer1 (Conv2D)             (None, 29, 29, 256)       12544     \n",
      "                                                                 \n",
      " Layer2 (MaxPooling2D)       (None, 14, 14, 256)       0         \n",
      "                                                                 \n",
      " Layer3 (Conv2D)             (None, 14, 14, 64)        262208    \n",
      "                                                                 \n",
      " Layer4 (MaxPooling2D)       (None, 7, 7, 64)          0         \n",
      "                                                                 \n",
      " Layer5 (Dropout)            (None, 7, 7, 64)          0         \n",
      "                                                                 \n",
      " Layer6 (Conv2D)             (None, 4, 4, 128)         131200    \n",
      "                                                                 \n",
      " Layer7 (MaxPooling2D)       (None, 2, 2, 128)         0         \n",
      "                                                                 \n",
      " Layer8 (Dropout)            (None, 2, 2, 128)         0         \n",
      "                                                                 \n",
      " Layer9 (Conv2D)             (None, 2, 2, 128)         262272    \n",
      "                                                                 \n",
      " Layer10 (MaxPooling2D)      (None, 1, 1, 128)         0         \n",
      "                                                                 \n",
      " Layer11 (Dropout)           (None, 1, 1, 128)         0         \n",
      "                                                                 \n",
      " Layer12 (Flatten)           (None, 128)               0         \n",
      "                                                                 \n",
      " Layer13 (Dense)             (None, 256)               33024     \n",
      "                                                                 \n",
      " Layer14 (Dropout)           (None, 256)               0         \n",
      "                                                                 \n",
      " Layer15 (Dense)             (None, 25)                6425      \n",
      "                                                                 \n",
      "=================================================================\n",
      "Total params: 707673 (2.70 MB)\n",
      "Trainable params: 707673 (2.70 MB)\n",
      "Non-trainable params: 0 (0.00 Byte)\n",
      "_________________________________________________________________\n"
     ]
    }
   ],
   "source": [
    "#Summerize Model\n",
    "model.summary()"
   ]
  },
  {
   "cell_type": "code",
   "execution_count": 8,
   "id": "a71dc966-25d0-41af-91f4-472861243f73",
   "metadata": {
    "tags": []
   },
   "outputs": [
    {
     "data": {
      "image/png": "[encoded data removed]",
      "text/plain": [
       "<PIL.Image.Image image mode=RGBA size=506x155>"
      ]
     },
     "execution_count": 8,
     "metadata": {},
     "output_type": "execute_result"
    }
   ],
   "source": [
    "#Visualize Model\n",
    "# without legend\n",
    "visualkeras.layered_view(model)"
   ]
  },
  {
   "cell_type": "code",
   "execution_count": 9,
   "id": "e4126411-76fc-40e4-907f-c4519e967062",
   "metadata": {
    "tags": []
   },
   "outputs": [
    {
     "data": {
      "image/png": "[encoded data removed]",
      "text/plain": [
       "<PIL.Image.Image image mode=RGBA size=506x194>"
      ]
     },
     "execution_count": 9,
     "metadata": {},
     "output_type": "execute_result"
    }
   ],
   "source": [
    "#Visualize Model\n",
    "#with legend with custumed font and size\n",
    "visualkeras.layered_view(model, legend=True)\n",
    "my_font_path = 'path/to/arial.ttf'\n",
    "font = ImageFont.truetype(my_font_path, 12)\n",
    "visualkeras.layered_view(model, legend=True, font=font)"
   ]
  },
  {
   "cell_type": "markdown",
   "id": "ce28b76d-608b-407b-aa49-7ce3880cecbf",
   "metadata": {},
   "source": [
    "## Note"
   ]
  },
  {
   "cell_type": "markdown",
   "id": "b5cdc32a-d19f-4fa4-bc0e-50c54a528ca9",
   "metadata": {},
   "source": [
    "You can build your own model and try to visualize it. You are also allowed to build your model either in Sequential API or in Functional API.\n",
    "Later we will discuss it. It is also noteworthy to make any changes in layers you build."
   ]
  },
  {
   "cell_type": "markdown",
   "id": "50e838f4-b69c-4073-be2e-0a408a86c27e",
   "metadata": {},
   "source": [
    "## Warm Greeting to Codingers!\n",
    "## --Santri Ngoding--"
   ]
  }
 ],
 "metadata": {
  "kernelspec": {
   "display_name": "Python 3 (ipykernel)",
   "language": "python",
   "name": "python3"
  },
  "language_info": {
   "codemirror_mode": {
    "name": "ipython",
    "version": 3
   },
   "file_extension": ".py",
   "mimetype": "text/x-python",
   "name": "python",
   "nbconvert_exporter": "python",
   "pygments_lexer": "ipython3",
   "version": "3.11.5"
  }
 },
 "nbformat": 4,
 "nbformat_minor": 5
}
